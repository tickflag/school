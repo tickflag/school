{
 "cells": [
  {
   "cell_type": "markdown",
   "id": "c0b55c6b-ec71-4043-8c13-a0f50bd77ccd",
   "metadata": {},
   "source": [
    "1"
   ]
  },
  {
   "cell_type": "code",
   "execution_count": null,
   "id": "0539f1b1-cc46-4034-ac12-5ed3aa41e1c6",
   "metadata": {},
   "outputs": [],
   "source": [
    "n, m = map(int, input().split())\n",
    "h, out = 1, 0\n",
    "\n",
    "if (n <= 0 and m <= 0):\n",
    "    n, m = -n, -m\n",
    "if (n < 0 and m >= 0 or m < 0 and n >= 0):\n",
    "    h = -h\n",
    "    m = abs(m)\n",
    "    n = abs(n)\n",
    "\n",
    "for i in range(m):\n",
    "    out += n\n",
    "\n",
    "print(out * h)"
   ]
  },
  {
   "cell_type": "markdown",
   "id": "5d98e571-d8a7-4bbf-a6f4-7bc22dd9e1c3",
   "metadata": {},
   "source": [
    "2"
   ]
  },
  {
   "cell_type": "code",
   "execution_count": null,
   "id": "02644388-ece9-4b46-af64-8764e8e5b64c",
   "metadata": {},
   "outputs": [],
   "source": [
    "n = int(input())\n",
    "print(n * (n + 1) / 2)"
   ]
  },
  {
   "cell_type": "markdown",
   "id": "9a01c1fc-059f-4c22-8c8f-f1cea63bc1c2",
   "metadata": {},
   "source": [
    "3"
   ]
  },
  {
   "cell_type": "code",
   "execution_count": null,
   "id": "1d0be0ec-5276-4904-ac50-61a08c97ce89",
   "metadata": {},
   "outputs": [],
   "source": [
    "n = int(input())\n",
    "\n",
    "for i in range(1, n + 1):\n",
    "    print(i * 2, end=' ')"
   ]
  },
  {
   "cell_type": "markdown",
   "id": "4207cc3c-47f0-45b2-b6ef-5d2c6ec7dc10",
   "metadata": {},
   "source": [
    "4"
   ]
  },
  {
   "cell_type": "code",
   "execution_count": null,
   "id": "04b782e2-3271-4ec0-bc36-f9304d8f3e55",
   "metadata": {},
   "outputs": [],
   "source": [
    "n, m = map(int, input().split())\n",
    "\n",
    "for i in range(n, m + 1):\n",
    "    print(f'{i}*{i}={i ** 2}')"
   ]
  },
  {
   "cell_type": "markdown",
   "id": "c548c576-15cc-4e9c-b2b6-b4f44ffc3982",
   "metadata": {},
   "source": [
    "5"
   ]
  },
  {
   "cell_type": "code",
   "execution_count": null,
   "id": "a8e8bfd0-a1f6-4f7b-b6a8-2237a0c9e980",
   "metadata": {},
   "outputs": [],
   "source": [
    "n, m = map(int, input().split())\n",
    "out = 0\n",
    "\n",
    "for i in range(n, m + 1):\n",
    "    out += i ** 2\n",
    "print(out)"
   ]
  },
  {
   "cell_type": "markdown",
   "id": "8a135aa5-525a-45ce-9d19-861af8cdbfc1",
   "metadata": {},
   "source": [
    "6"
   ]
  },
  {
   "cell_type": "code",
   "execution_count": null,
   "id": "1e756b10-1199-4188-8f63-0b3e7e61e503",
   "metadata": {},
   "outputs": [],
   "source": [
    "a, b, n = map(int, input().split())\n",
    "put = a\n",
    "\n",
    "for i in range(n):\n",
    "    print(put, end=' ')\n",
    "    put += 1\n",
    "    if (put > b):\n",
    "        put = a"
   ]
  },
  {
   "cell_type": "markdown",
   "id": "5056f3f2-7365-45dc-95fa-058db64de5ba",
   "metadata": {},
   "source": [
    "7"
   ]
  },
  {
   "cell_type": "code",
   "execution_count": null,
   "id": "f6419f82-a671-43c8-b8cd-f93a0284b3ce",
   "metadata": {},
   "outputs": [],
   "source": [
    "a, b = map(int, input().split())\n",
    "c, d = map(int, input().split())\n",
    "isOut = False\n",
    "\n",
    "for i in range(10000, 100000):\n",
    "    if (i % a == b and i % c == d):\n",
    "        isOut = True\n",
    "        print(i, end=' ')\n",
    "\n",
    "if (not isOut):\n",
    "    print(-1)"
   ]
  },
  {
   "cell_type": "markdown",
   "id": "fb274032-0e17-4cf4-9034-1384b1cc4053",
   "metadata": {},
   "source": [
    "8"
   ]
  },
  {
   "cell_type": "code",
   "execution_count": null,
   "id": "822ddba3-17ef-475d-996b-414c3a9ac1b7",
   "metadata": {},
   "outputs": [],
   "source": [
    "a, b = map(int, input().split())\n",
    "for i in range(a, b + 1):\n",
    "    digits = set(int(digit) for digit in str(i))\n",
    "    if all(d != 0 and i % d == 0 for d in digits):\n",
    "        print(i, end=' ')"
   ]
  },
  {
   "cell_type": "markdown",
   "id": "17eca04a-aace-46f7-9a7f-f8b6a04429fe",
   "metadata": {},
   "source": [
    "9"
   ]
  },
  {
   "cell_type": "code",
   "execution_count": null,
   "id": "b94c3c1a-0dcd-4995-9066-d95e76b54714",
   "metadata": {},
   "outputs": [],
   "source": [
    "n, m = map(int, input().split())\n",
    "isOut = False\n",
    "\n",
    "for i in range(n ,m + 1):\n",
    "    digits = list(int(digit) for digit in str(i))\n",
    "    if sum(d ** len(digits) for d in digits) == i:\n",
    "        isOut = True\n",
    "        print(i, end=' ')\n",
    "\n",
    "if (not isOut):\n",
    "    print(-1)"
   ]
  },
  {
   "cell_type": "markdown",
   "id": "a9309be3-d354-4b29-953e-a0392c3d4a07",
   "metadata": {},
   "source": [
    "10"
   ]
  },
  {
   "cell_type": "code",
   "execution_count": null,
   "id": "31ab10a2-9a20-4bf0-b75f-0ac14e3d8f65",
   "metadata": {},
   "outputs": [],
   "source": [
    "n, m = map(int, input().split())\n",
    "isOut = False\n",
    "\n",
    "for i in range(n, m + 1):\n",
    "    if str(i ** 2).endswith(str(i)):\n",
    "        isOut = True\n",
    "        print(i, end=' ')\n",
    "        \n",
    "if (not isOut):\n",
    "    print(-1)"
   ]
  },
  {
   "cell_type": "markdown",
   "id": "6826314e-17f6-47d2-bcee-ace0a59c5a30",
   "metadata": {},
   "source": [
    "11"
   ]
  },
  {
   "cell_type": "code",
   "execution_count": null,
   "id": "3638f417-4f58-4fcb-baaa-528d9e170e7f",
   "metadata": {},
   "outputs": [],
   "source": [
    "n = input()\n",
    "out = 0\n",
    "\n",
    "for i in n:\n",
    "    if (int(i) % 2 == 0):\n",
    "        out += 1\n",
    "\n",
    "print(out)"
   ]
  },
  {
   "cell_type": "markdown",
   "id": "4a1e7d8c-e95a-471f-b4f3-44adb91f72b9",
   "metadata": {},
   "source": [
    "12"
   ]
  },
  {
   "cell_type": "code",
   "execution_count": null,
   "id": "facde0a9-3e49-4c2b-b7f1-4fa00fdbcf96",
   "metadata": {},
   "outputs": [],
   "source": [
    "n = input()\n",
    "out = 0\n",
    "\n",
    "for i in n:\n",
    "    out += int(i)\n",
    "\n",
    "print(out)"
   ]
  },
  {
   "cell_type": "markdown",
   "id": "9252645b-2bbb-4d75-afaa-359fe37496cc",
   "metadata": {},
   "source": [
    "13"
   ]
  },
  {
   "cell_type": "code",
   "execution_count": null,
   "id": "864e05f8-be90-4c59-9a3e-abe402d80b89",
   "metadata": {},
   "outputs": [],
   "source": [
    "n = input()\n",
    "out = \"NO\"\n",
    "last = \"\"\n",
    "for i in n:\n",
    "    if (i != \"\"):\n",
    "        if (last == i):\n",
    "            out = \"YES\"\n",
    "        last = i\n",
    "\n",
    "print(out)"
   ]
  },
  {
   "cell_type": "markdown",
   "id": "73efb639-60e0-4aaf-9291-4965e71c428c",
   "metadata": {},
   "source": [
    "14"
   ]
  },
  {
   "cell_type": "code",
   "execution_count": null,
   "id": "2e01bdd7-17a2-438b-8a0b-8bc01c50eccc",
   "metadata": {},
   "outputs": [],
   "source": [
    "n = input()\n",
    "\n",
    "if (n[0] * len(n) == n):\n",
    "    print(\"YES\")\n",
    "else:\n",
    "    print(\"NO\")"
   ]
  },
  {
   "cell_type": "markdown",
   "id": "13d32cf8-94b7-4a11-b3c7-6431a0156c6b",
   "metadata": {},
   "source": [
    "15"
   ]
  },
  {
   "cell_type": "code",
   "execution_count": null,
   "id": "56a86386-afbc-4f62-96ca-31087942779d",
   "metadata": {},
   "outputs": [],
   "source": [
    "n = input()\n",
    "\n",
    "if (len(set(d for d in n)) != len(n)):\n",
    "    print(\"YES\")\n",
    "else:\n",
    "    print(\"NO\")"
   ]
  },
  {
   "cell_type": "markdown",
   "id": "bb2abe1a-2c9b-4050-82db-d7e499ccf585",
   "metadata": {},
   "source": [
    "16"
   ]
  },
  {
   "cell_type": "code",
   "execution_count": null,
   "id": "2c4080e1-c3f4-4e11-94a6-49bb3ef0db89",
   "metadata": {},
   "outputs": [],
   "source": [
    "n = int(input())\n",
    "out = []\n",
    "if (n < 2):\n",
    "    print(0)\n",
    "else:\n",
    "    for i in range(2, n + 1, 2):\n",
    "        out.append(str(2 ** i))\n",
    "    \n",
    "    print(' '.join(out[::-1]))"
   ]
  },
  {
   "cell_type": "markdown",
   "id": "7aca6108-5cf8-4a86-98d5-5a0e18bda4a5",
   "metadata": {},
   "source": [
    "17"
   ]
  },
  {
   "cell_type": "code",
   "execution_count": null,
   "id": "36f305cf-9580-4cc8-a9ac-f9a009c05f89",
   "metadata": {},
   "outputs": [],
   "source": [
    "n = int(input())\n",
    "out = []\n",
    "\n",
    "if (n < 4):\n",
    "    print(0)\n",
    "else:\n",
    "    for i in range(2, 100, 2):\n",
    "        if (2 ** i <= n):\n",
    "            out.append(str(2 ** i))\n",
    "        else:\n",
    "            break\n",
    "    print(' '.join(out[::-1]))"
   ]
  },
  {
   "cell_type": "markdown",
   "id": "707c4eeb-94f8-48e0-867b-87a6761d7dbd",
   "metadata": {},
   "source": [
    "18"
   ]
  },
  {
   "cell_type": "code",
   "execution_count": null,
   "id": "bc3e6b2e-f30f-4245-85ed-57522540f1c2",
   "metadata": {},
   "outputs": [],
   "source": [
    "def gcd(a, b):\n",
    "    global out\n",
    "    out += 1\n",
    "    if a == 0 or b == 0: \n",
    "         return max(a, b)\n",
    "    if a > b:\n",
    "        return gcd(a - b, b)\n",
    "    else:\n",
    "        return gcd(a, b - a)\n",
    "\n",
    "a, b = map(int, input().split())\n",
    "out = 0\n",
    "n = gcd(a, b)\n",
    "\n",
    "print(n, out - 1)"
   ]
  },
  {
   "cell_type": "markdown",
   "id": "813792d2-9719-4ccd-b323-927363407537",
   "metadata": {},
   "source": [
    "19"
   ]
  },
  {
   "cell_type": "code",
   "execution_count": null,
   "id": "538eecdd-c114-4593-9c35-9159fa6f11d0",
   "metadata": {},
   "outputs": [],
   "source": [
    "def gcd(a, b):\n",
    "    global out\n",
    "    out += 1\n",
    "    if (a == 0 or b == 0):\n",
    "        return max(a, b)\n",
    "    if (a > b):\n",
    "        return gcd(a % b, b)\n",
    "    else:\n",
    "        return gcd(b % a, a)\n",
    "\n",
    "a, b = map(int, input().split())\n",
    "out = 0\n",
    "n = gcd(a, b)\n",
    "\n",
    "print(n, out - 1)"
   ]
  },
  {
   "cell_type": "markdown",
   "id": "7cab6d6a-a6ff-479a-9560-4b7c850a2907",
   "metadata": {},
   "source": [
    "20"
   ]
  },
  {
   "cell_type": "code",
   "execution_count": null,
   "id": "e0643a15-5156-4dfd-b190-fdbcedfdb605",
   "metadata": {},
   "outputs": [],
   "source": [
    "f = int(input())\n",
    "s = 0\n",
    "n = 1\n",
    "for _ in range(f):\n",
    "    a = int(input())\n",
    "    s += a\n",
    "    n *= a\n",
    "\n",
    "print(s, n)"
   ]
  },
  {
   "cell_type": "raw",
   "id": "1f9d9c6b-6c7b-481e-8725-8eee63a99dcb",
   "metadata": {},
   "source": [
    "21"
   ]
  },
  {
   "cell_type": "code",
   "execution_count": null,
   "id": "0fb93650-0173-442b-8f22-2d640ef23e73",
   "metadata": {},
   "outputs": [],
   "source": [
    "a = int(input())\n",
    "s, n = 0, 1\n",
    "while a != 0:\n",
    "    s += a\n",
    "    n *= a\n",
    "    a = int(input())\n",
    "\n",
    "print(s, n)"
   ]
  },
  {
   "cell_type": "markdown",
   "id": "3d9d32c5-604a-4cfe-93a4-9dd4254eb98c",
   "metadata": {},
   "source": [
    "22"
   ]
  },
  {
   "cell_type": "code",
   "execution_count": null,
   "id": "572ad868-f574-4e13-8490-a3cae696b87e",
   "metadata": {},
   "outputs": [],
   "source": [
    "a = int(input())\n",
    "s = []\n",
    "while a != 0:\n",
    "    s.append(a)\n",
    "    a = int(input())\n",
    "\n",
    "print(max(s), min(s))"
   ]
  },
  {
   "cell_type": "markdown",
   "id": "9bfbb08b-2ad2-4fc4-84a6-2ad06f8892e2",
   "metadata": {},
   "source": [
    "23"
   ]
  },
  {
   "cell_type": "code",
   "execution_count": null,
   "id": "f64ad8e5-c6a3-499b-8186-da460a499d1e",
   "metadata": {},
   "outputs": [],
   "source": []
  },
  {
   "cell_type": "markdown",
   "id": "04dbcb27-936e-4da5-bf79-e08f14f7d913",
   "metadata": {},
   "source": [
    "24"
   ]
  },
  {
   "cell_type": "code",
   "execution_count": null,
   "id": "3c78c151-6d90-4077-98e1-04d439d9980d",
   "metadata": {},
   "outputs": [],
   "source": []
  },
  {
   "cell_type": "markdown",
   "id": "036b4930-9077-4835-8ded-6b4a83a996e6",
   "metadata": {},
   "source": [
    "25"
   ]
  },
  {
   "cell_type": "code",
   "execution_count": null,
   "id": "e7e0c350-3e5d-4d6c-afb2-20e935f72cf9",
   "metadata": {},
   "outputs": [],
   "source": []
  },
  {
   "cell_type": "code",
   "execution_count": null,
   "id": "fd70f2e2-24a8-4d03-b7e7-27f79882fb8e",
   "metadata": {},
   "outputs": [],
   "source": []
  },
  {
   "cell_type": "code",
   "execution_count": null,
   "id": "51964ad3-2b5b-47ea-8d46-99043e887a36",
   "metadata": {},
   "outputs": [],
   "source": []
  },
  {
   "cell_type": "code",
   "execution_count": null,
   "id": "57e68cf8-9776-43c7-96fa-d897b4930dfe",
   "metadata": {},
   "outputs": [],
   "source": []
  },
  {
   "cell_type": "code",
   "execution_count": null,
   "id": "2138d007-99f8-48cf-8987-e43d45456292",
   "metadata": {},
   "outputs": [],
   "source": []
  }
 ],
 "metadata": {
  "kernelspec": {
   "display_name": "Python 3 (ipykernel)",
   "language": "python",
   "name": "python3"
  },
  "language_info": {
   "codemirror_mode": {
    "name": "ipython",
    "version": 3
   },
   "file_extension": ".py",
   "mimetype": "text/x-python",
   "name": "python",
   "nbconvert_exporter": "python",
   "pygments_lexer": "ipython3",
   "version": "3.12.6"
  }
 },
 "nbformat": 4,
 "nbformat_minor": 5
}
